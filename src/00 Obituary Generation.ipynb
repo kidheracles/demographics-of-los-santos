{
 "cells": [
  {
   "cell_type": "code",
   "execution_count": 1,
   "metadata": {},
   "outputs": [],
   "source": [
    "import pandas as pd\n",
    "import gzip\n",
    "import numpy as np"
   ]
  },
  {
   "cell_type": "code",
   "execution_count": 2,
   "metadata": {},
   "outputs": [],
   "source": [
    "from IPython.core.interactiveshell import InteractiveShell\n",
    "\n",
    "InteractiveShell.ast_node_interactivity = \"all\""
   ]
  },
  {
   "cell_type": "code",
   "execution_count": 3,
   "metadata": {},
   "outputs": [
    {
     "data": {
      "text/plain": [
       "(376035, 136)"
      ]
     },
     "execution_count": 3,
     "metadata": {},
     "output_type": "execute_result"
    },
    {
     "data": {
      "text/html": [
       "<div>\n",
       "<style scoped>\n",
       "    .dataframe tbody tr th:only-of-type {\n",
       "        vertical-align: middle;\n",
       "    }\n",
       "\n",
       "    .dataframe tbody tr th {\n",
       "        vertical-align: top;\n",
       "    }\n",
       "\n",
       "    .dataframe thead th {\n",
       "        text-align: right;\n",
       "    }\n",
       "</style>\n",
       "<table border=\"1\" class=\"dataframe\">\n",
       "  <thead>\n",
       "    <tr style=\"text-align: right;\">\n",
       "      <th></th>\n",
       "      <th>year</th>\n",
       "      <th>datanum</th>\n",
       "      <th>serial</th>\n",
       "      <th>hhwt</th>\n",
       "      <th>statefip</th>\n",
       "      <th>countyfips</th>\n",
       "      <th>city</th>\n",
       "      <th>puma</th>\n",
       "      <th>homeland</th>\n",
       "      <th>gq</th>\n",
       "      <th>...</th>\n",
       "      <th>vetwwii</th>\n",
       "      <th>vetother</th>\n",
       "      <th>pwstate2</th>\n",
       "      <th>pwpuma00</th>\n",
       "      <th>tranwork</th>\n",
       "      <th>carpool</th>\n",
       "      <th>riders</th>\n",
       "      <th>trantime</th>\n",
       "      <th>departs</th>\n",
       "      <th>arrives</th>\n",
       "    </tr>\n",
       "  </thead>\n",
       "  <tbody>\n",
       "    <tr>\n",
       "      <td>0</td>\n",
       "      <td>2016</td>\n",
       "      <td>1</td>\n",
       "      <td>67752</td>\n",
       "      <td>102</td>\n",
       "      <td>california</td>\n",
       "      <td>107</td>\n",
       "      <td>not in identifiable city (or size group)</td>\n",
       "      <td>10702</td>\n",
       "      <td>puma does not include a homeland area</td>\n",
       "      <td>households under 1970 definition</td>\n",
       "      <td>...</td>\n",
       "      <td>n/a; n/a or no (1980, 1990 us)</td>\n",
       "      <td>n/a (all years) or no</td>\n",
       "      <td>n/a</td>\n",
       "      <td>0</td>\n",
       "      <td>n/a</td>\n",
       "      <td>n/a</td>\n",
       "      <td>n/a</td>\n",
       "      <td>0</td>\n",
       "      <td>0</td>\n",
       "      <td>0</td>\n",
       "    </tr>\n",
       "    <tr>\n",
       "      <td>1</td>\n",
       "      <td>2016</td>\n",
       "      <td>1</td>\n",
       "      <td>67752</td>\n",
       "      <td>102</td>\n",
       "      <td>california</td>\n",
       "      <td>107</td>\n",
       "      <td>not in identifiable city (or size group)</td>\n",
       "      <td>10702</td>\n",
       "      <td>puma does not include a homeland area</td>\n",
       "      <td>households under 1970 definition</td>\n",
       "      <td>...</td>\n",
       "      <td>no</td>\n",
       "      <td>no</td>\n",
       "      <td>n/a</td>\n",
       "      <td>0</td>\n",
       "      <td>n/a</td>\n",
       "      <td>n/a</td>\n",
       "      <td>n/a</td>\n",
       "      <td>0</td>\n",
       "      <td>0</td>\n",
       "      <td>0</td>\n",
       "    </tr>\n",
       "    <tr>\n",
       "      <td>2</td>\n",
       "      <td>2016</td>\n",
       "      <td>1</td>\n",
       "      <td>67753</td>\n",
       "      <td>122</td>\n",
       "      <td>california</td>\n",
       "      <td>65</td>\n",
       "      <td>not in identifiable city (or size group)</td>\n",
       "      <td>6514</td>\n",
       "      <td>puma does not include a homeland area</td>\n",
       "      <td>households under 1970 definition</td>\n",
       "      <td>...</td>\n",
       "      <td>n/a; n/a or no (1980, 1990 us)</td>\n",
       "      <td>n/a (all years) or no</td>\n",
       "      <td>california</td>\n",
       "      <td>7100</td>\n",
       "      <td>auto, truck, or van</td>\n",
       "      <td>drives alone</td>\n",
       "      <td>drives alone</td>\n",
       "      <td>22</td>\n",
       "      <td>1105</td>\n",
       "      <td>1124</td>\n",
       "    </tr>\n",
       "    <tr>\n",
       "      <td>3</td>\n",
       "      <td>2016</td>\n",
       "      <td>1</td>\n",
       "      <td>67753</td>\n",
       "      <td>122</td>\n",
       "      <td>california</td>\n",
       "      <td>65</td>\n",
       "      <td>not in identifiable city (or size group)</td>\n",
       "      <td>6514</td>\n",
       "      <td>puma does not include a homeland area</td>\n",
       "      <td>households under 1970 definition</td>\n",
       "      <td>...</td>\n",
       "      <td>n/a; n/a or no (1980, 1990 us)</td>\n",
       "      <td>n/a (all years) or no</td>\n",
       "      <td>california</td>\n",
       "      <td>3700</td>\n",
       "      <td>auto, truck, or van</td>\n",
       "      <td>drives alone</td>\n",
       "      <td>drives alone</td>\n",
       "      <td>141</td>\n",
       "      <td>502</td>\n",
       "      <td>704</td>\n",
       "    </tr>\n",
       "    <tr>\n",
       "      <td>4</td>\n",
       "      <td>2016</td>\n",
       "      <td>1</td>\n",
       "      <td>67753</td>\n",
       "      <td>122</td>\n",
       "      <td>california</td>\n",
       "      <td>65</td>\n",
       "      <td>not in identifiable city (or size group)</td>\n",
       "      <td>6514</td>\n",
       "      <td>puma does not include a homeland area</td>\n",
       "      <td>households under 1970 definition</td>\n",
       "      <td>...</td>\n",
       "      <td>n/a; n/a or no (1980, 1990 us)</td>\n",
       "      <td>n/a (all years) or no</td>\n",
       "      <td>n/a</td>\n",
       "      <td>0</td>\n",
       "      <td>n/a</td>\n",
       "      <td>n/a</td>\n",
       "      <td>n/a</td>\n",
       "      <td>0</td>\n",
       "      <td>0</td>\n",
       "      <td>0</td>\n",
       "    </tr>\n",
       "  </tbody>\n",
       "</table>\n",
       "<p>5 rows × 136 columns</p>\n",
       "</div>"
      ],
      "text/plain": [
       "   year  datanum  serial  hhwt    statefip  countyfips  \\\n",
       "0  2016        1   67752   102  california         107   \n",
       "1  2016        1   67752   102  california         107   \n",
       "2  2016        1   67753   122  california          65   \n",
       "3  2016        1   67753   122  california          65   \n",
       "4  2016        1   67753   122  california          65   \n",
       "\n",
       "                                       city   puma  \\\n",
       "0  not in identifiable city (or size group)  10702   \n",
       "1  not in identifiable city (or size group)  10702   \n",
       "2  not in identifiable city (or size group)   6514   \n",
       "3  not in identifiable city (or size group)   6514   \n",
       "4  not in identifiable city (or size group)   6514   \n",
       "\n",
       "                                homeland                                gq  \\\n",
       "0  puma does not include a homeland area  households under 1970 definition   \n",
       "1  puma does not include a homeland area  households under 1970 definition   \n",
       "2  puma does not include a homeland area  households under 1970 definition   \n",
       "3  puma does not include a homeland area  households under 1970 definition   \n",
       "4  puma does not include a homeland area  households under 1970 definition   \n",
       "\n",
       "   ...                         vetwwii               vetother    pwstate2  \\\n",
       "0  ...  n/a; n/a or no (1980, 1990 us)  n/a (all years) or no         n/a   \n",
       "1  ...                              no                     no         n/a   \n",
       "2  ...  n/a; n/a or no (1980, 1990 us)  n/a (all years) or no  california   \n",
       "3  ...  n/a; n/a or no (1980, 1990 us)  n/a (all years) or no  california   \n",
       "4  ...  n/a; n/a or no (1980, 1990 us)  n/a (all years) or no         n/a   \n",
       "\n",
       "  pwpuma00             tranwork       carpool        riders  trantime departs  \\\n",
       "0        0                  n/a           n/a           n/a         0       0   \n",
       "1        0                  n/a           n/a           n/a         0       0   \n",
       "2     7100  auto, truck, or van  drives alone  drives alone        22    1105   \n",
       "3     3700  auto, truck, or van  drives alone  drives alone       141     502   \n",
       "4        0                  n/a           n/a           n/a         0       0   \n",
       "\n",
       "   arrives  \n",
       "0        0  \n",
       "1        0  \n",
       "2     1124  \n",
       "3      704  \n",
       "4        0  \n",
       "\n",
       "[5 rows x 136 columns]"
      ]
     },
     "execution_count": 3,
     "metadata": {},
     "output_type": "execute_result"
    },
    {
     "data": {
      "text/plain": [
       "Index(['year', 'datanum', 'serial', 'hhwt', 'statefip', 'countyfips', 'city',\n",
       "       'puma', 'homeland', 'gq',\n",
       "       ...\n",
       "       'vetwwii', 'vetother', 'pwstate2', 'pwpuma00', 'tranwork', 'carpool',\n",
       "       'riders', 'trantime', 'departs', 'arrives'],\n",
       "      dtype='object', length=136)"
      ]
     },
     "execution_count": 3,
     "metadata": {},
     "output_type": "execute_result"
    }
   ],
   "source": [
    "with gzip.open(\"../data/raw/usa_00035.dta.gz\", \"rb\") as file:\n",
    "    df = pd.read_stata(file)\n",
    "    \n",
    "df.shape\n",
    "df.head()\n",
    "df.columns"
   ]
  },
  {
   "cell_type": "code",
   "execution_count": 4,
   "metadata": {},
   "outputs": [
    {
     "name": "stdout",
     "output_type": "stream",
     "text": [
      "['year', 'datanum', 'serial', 'hhwt', 'statefip', 'countyfips', 'city', 'puma', 'homeland', 'gq', 'gqtype', 'gqtyped', 'farm', 'ownershp', 'ownershpd', 'mortgage', 'mortgag2', 'farmprod', 'acrehous', 'mortamt1', 'mortamt2', 'rent', 'rentgrs', 'rentmeal', 'costelec', 'costgas', 'costwatr', 'costfuel', 'foodstmp', 'lingisol', 'fridge', 'hotwater', 'bedrooms', 'phone', 'cinethh', 'cilaptop', 'cismrtphn', 'citablet', 'ciothcomp', 'cidatapln', 'fuelheat', 'vehicles', 'ssmc', 'nfams', 'nsubfam', 'ncouples', 'multgen', 'multgend', 'pernum', 'perwt', 'sex', 'age', 'marst', 'birthyr', 'marrno', 'yrmarr', 'divinyr', 'widinyr', 'race', 'raced', 'hispan', 'hispand', 'bpl', 'bpld', 'ancestr1', 'ancestr1d', 'ancestr2', 'ancestr2d', 'citizen', 'yrnatur', 'yrimmig', 'yrsusa1', 'language', 'languaged', 'hcovany', 'hinsemp', 'hinscaid', 'hinscare', 'hinsva', 'hinsihs', 'educ', 'educd', 'gradeatt', 'gradeattd', 'schltype', 'degfield', 'degfieldd', 'degfield2', 'degfield2d', 'empstat', 'empstatd', 'labforce', 'occ', 'ind', 'classwkr', 'classwkrd', 'wkswork2', 'uhrswork', 'looking', 'availble', 'inctot', 'ftotinc', 'incwage', 'incbus00', 'incss', 'incwelfr', 'incinvst', 'incretir', 'incsupp', 'incother', 'incearn', 'poverty', 'migrate1', 'migrate1d', 'migplac1', 'migpuma1', 'movedin', 'vetstat', 'vetstatd', 'vet01ltr', 'vet90x01', 'vet75x90', 'vetvietn', 'vet55x64', 'vetkorea', 'vet47x50', 'vetwwii', 'vetother', 'pwstate2', 'pwpuma00', 'tranwork', 'carpool', 'riders', 'trantime', 'departs', 'arrives']\n"
     ]
    }
   ],
   "source": [
    "print([col for col in df.columns])"
   ]
  },
  {
   "cell_type": "code",
   "execution_count": 5,
   "metadata": {},
   "outputs": [
    {
     "data": {
      "text/plain": [
       "(3702, 136)"
      ]
     },
     "execution_count": 5,
     "metadata": {},
     "output_type": "execute_result"
    }
   ],
   "source": [
    "df[df['age'] == 'less than 1 year old'].shape"
   ]
  },
  {
   "cell_type": "code",
   "execution_count": 6,
   "metadata": {},
   "outputs": [
    {
     "data": {
      "text/plain": [
       "year              2016\n",
       "datanum              1\n",
       "serial           67752\n",
       "hhwt               102\n",
       "statefip    california\n",
       "               ...    \n",
       "carpool            n/a\n",
       "riders             n/a\n",
       "trantime             0\n",
       "departs              0\n",
       "arrives              0\n",
       "Name: 1, Length: 136, dtype: object"
      ]
     },
     "execution_count": 6,
     "metadata": {},
     "output_type": "execute_result"
    }
   ],
   "source": [
    "df.iloc[1]"
   ]
  },
  {
   "cell_type": "code",
   "execution_count": 7,
   "metadata": {},
   "outputs": [
    {
     "data": {
      "text/html": [
       "<div>\n",
       "<style scoped>\n",
       "    .dataframe tbody tr th:only-of-type {\n",
       "        vertical-align: middle;\n",
       "    }\n",
       "\n",
       "    .dataframe tbody tr th {\n",
       "        vertical-align: top;\n",
       "    }\n",
       "\n",
       "    .dataframe thead th {\n",
       "        text-align: right;\n",
       "    }\n",
       "</style>\n",
       "<table border=\"1\" class=\"dataframe\">\n",
       "  <thead>\n",
       "    <tr style=\"text-align: right;\">\n",
       "      <th></th>\n",
       "      <th>county</th>\n",
       "      <th>fips</th>\n",
       "    </tr>\n",
       "  </thead>\n",
       "  <tbody>\n",
       "    <tr>\n",
       "      <td>0</td>\n",
       "      <td>Los Angeles</td>\n",
       "      <td>37</td>\n",
       "    </tr>\n",
       "  </tbody>\n",
       "</table>\n",
       "</div>"
      ],
      "text/plain": [
       "        county  fips\n",
       "0  Los Angeles    37"
      ]
     },
     "execution_count": 7,
     "metadata": {},
     "output_type": "execute_result"
    }
   ],
   "source": [
    "county_fips = pd.read_csv(\"../data/raw/county_fips.csv\")\n",
    "\n",
    "county_fips['fips'] = county_fips['fips'].astype(int)\n",
    "\n",
    "county_fips.head()"
   ]
  },
  {
   "cell_type": "code",
   "execution_count": 8,
   "metadata": {},
   "outputs": [],
   "source": [
    "records = county_fips[['fips','county']].to_dict(orient = \"records\" )\n",
    "ls_records = []\n",
    "for record in records:\n",
    "    \n",
    "    ls_records.append(list(record.values()))\n",
    "    fips = {item[0]: item[1] for item in ls_records}"
   ]
  },
  {
   "cell_type": "code",
   "execution_count": 9,
   "metadata": {},
   "outputs": [
    {
     "data": {
      "text/plain": [
       "{37: 'Los Angeles'}"
      ]
     },
     "execution_count": 9,
     "metadata": {},
     "output_type": "execute_result"
    }
   ],
   "source": [
    "fips"
   ]
  },
  {
   "cell_type": "code",
   "execution_count": 10,
   "metadata": {},
   "outputs": [],
   "source": [
    "df['countyfips'] = df['countyfips'].map(fips)"
   ]
  },
  {
   "cell_type": "code",
   "execution_count": 11,
   "metadata": {},
   "outputs": [],
   "source": [
    "df['countyfips'] = df['countyfips'].fillna(value = \"N/A\")"
   ]
  },
  {
   "cell_type": "code",
   "execution_count": 12,
   "metadata": {},
   "outputs": [
    {
     "data": {
      "text/plain": [
       "[not in identifiable city (or size group), santa ana, ca, san francisco, ca, los angeles, ca, palmdale, ca, ..., rancho cucamonga, ca, visalia, ca, pasadena, ca, elk grove, ca, ontario, ca]\n",
       "Length: 23\n",
       "Categories (23, object): [not in identifiable city (or size group) < antioch, ca < downey, ca < east los angeles, ca ... san francisco, ca < santa ana, ca < sunnyvale, ca < visalia, ca]"
      ]
     },
     "execution_count": 12,
     "metadata": {},
     "output_type": "execute_result"
    }
   ],
   "source": [
    "df['city'].unique()"
   ]
  },
  {
   "cell_type": "code",
   "execution_count": 13,
   "metadata": {},
   "outputs": [
    {
     "data": {
      "text/html": [
       "<div>\n",
       "<style scoped>\n",
       "    .dataframe tbody tr th:only-of-type {\n",
       "        vertical-align: middle;\n",
       "    }\n",
       "\n",
       "    .dataframe tbody tr th {\n",
       "        vertical-align: top;\n",
       "    }\n",
       "\n",
       "    .dataframe thead th {\n",
       "        text-align: right;\n",
       "    }\n",
       "</style>\n",
       "<table border=\"1\" class=\"dataframe\">\n",
       "  <thead>\n",
       "    <tr style=\"text-align: right;\">\n",
       "      <th></th>\n",
       "      <th>ACS</th>\n",
       "      <th>Occupation Name</th>\n",
       "    </tr>\n",
       "  </thead>\n",
       "  <tbody>\n",
       "    <tr>\n",
       "      <td>0</td>\n",
       "      <td>0</td>\n",
       "      <td>N/A (Less than 16 years old/unemployed who nev...</td>\n",
       "    </tr>\n",
       "    <tr>\n",
       "      <td>1</td>\n",
       "      <td>10</td>\n",
       "      <td>Chief executivesand legislators2</td>\n",
       "    </tr>\n",
       "    <tr>\n",
       "      <td>2</td>\n",
       "      <td>20</td>\n",
       "      <td>General and operations managers</td>\n",
       "    </tr>\n",
       "    <tr>\n",
       "      <td>3</td>\n",
       "      <td>40</td>\n",
       "      <td>Advertising and promotions managers</td>\n",
       "    </tr>\n",
       "    <tr>\n",
       "      <td>4</td>\n",
       "      <td>50</td>\n",
       "      <td>Marketing and sales managers</td>\n",
       "    </tr>\n",
       "  </tbody>\n",
       "</table>\n",
       "</div>"
      ],
      "text/plain": [
       "   ACS                                    Occupation Name\n",
       "0    0  N/A (Less than 16 years old/unemployed who nev...\n",
       "1   10                   Chief executivesand legislators2\n",
       "2   20                    General and operations managers\n",
       "3   40                Advertising and promotions managers\n",
       "4   50                       Marketing and sales managers"
      ]
     },
     "execution_count": 13,
     "metadata": {},
     "output_type": "execute_result"
    }
   ],
   "source": [
    "occ = pd.read_csv(\"../data/raw/OCC2016.csv\")\n",
    "\n",
    "occ['ACS'] = occ['ACS'].astype(int)\n",
    "\n",
    "occ.head()"
   ]
  },
  {
   "cell_type": "code",
   "execution_count": 14,
   "metadata": {},
   "outputs": [],
   "source": [
    "records = occ[['ACS', 'Occupation Name']].to_dict(orient = \"records\" )\n",
    "ls_records = []\n",
    "for record in records:\n",
    "    \n",
    "    ls_records.append(list(record.values()))\n",
    "    occ = {item[0]: item[1] for item in ls_records}"
   ]
  },
  {
   "cell_type": "code",
   "execution_count": 15,
   "metadata": {},
   "outputs": [],
   "source": [
    "df['occ'] = df['occ'].map(occ)"
   ]
  },
  {
   "cell_type": "code",
   "execution_count": 16,
   "metadata": {},
   "outputs": [
    {
     "data": {
      "text/plain": [
       "[not in labor force, employed, unemployed, n/a]\n",
       "Categories (4, object): [n/a < employed < unemployed < not in labor force]"
      ]
     },
     "execution_count": 16,
     "metadata": {},
     "output_type": "execute_result"
    }
   ],
   "source": [
    "df['empstat'].unique()"
   ]
  },
  {
   "cell_type": "code",
   "execution_count": 17,
   "metadata": {},
   "outputs": [
    {
     "name": "stdout",
     "output_type": "stream",
     "text": [
      "He was 46. He was a Miscellaneous managers, including funeral service managers (0325) and postmasters and mail superintendent\n"
     ]
    }
   ],
   "source": [
    "person = df.iloc[84321]\n",
    "if person['sex'] == 'male':\n",
    "    pronounU = 'He'\n",
    "    pronounL = 'he'\n",
    "else:\n",
    "    pronounU = 'She'\n",
    "    pronounL = 'she'\n",
    "\n",
    "# work\n",
    "if person['empstat'] == 'employed':\n",
    "    work = f\"{pronounU} was a {person['occ'][:-1]}\"\n",
    "else:\n",
    "    work = ''\n",
    "\n",
    "sentence = f\"{pronounU} was {person['age']}. {work}\"\n",
    "    \n",
    "print(sentence)"
   ]
  },
  {
   "cell_type": "code",
   "execution_count": 18,
   "metadata": {},
   "outputs": [
    {
     "data": {
      "text/plain": [
       "125"
      ]
     },
     "execution_count": 18,
     "metadata": {},
     "output_type": "execute_result"
    }
   ],
   "source": [
    "len(sentence)"
   ]
  },
  {
   "cell_type": "markdown",
   "metadata": {},
   "source": [
    "## SPACY on OCC"
   ]
  },
  {
   "cell_type": "code",
   "execution_count": 19,
   "metadata": {},
   "outputs": [],
   "source": [
    "import spacy\n",
    "nlp = spacy.load('en_core_web_sm')"
   ]
  },
  {
   "cell_type": "code",
   "execution_count": 20,
   "metadata": {},
   "outputs": [],
   "source": [
    "lemma = []\n",
    "tag = []\n",
    "\n",
    "data = df[df['empstat'] == 'employed'].copy()\n",
    "\n",
    "for doc in nlp.pipe(data['occ'].astype('unicode').values, batch_size=50,\n",
    "                        n_threads=3):\n",
    "    if doc.is_parsed:\n",
    "        lemma.append([n.lemma_ for n in doc])\n",
    "        tag.append([n.lemma_ for n in doc if n.tag_ == 'NNS'])\n",
    "    else:\n",
    "        # We want to make sure that the lists of parsed results have the\n",
    "        # same number of entries of the original Dataframe, so add some blanks in case the parse fails\n",
    "        lemma.append(None)\n",
    "        tag.append(None)\n",
    "\n",
    "\n",
    "data['occ_lemma'] = lemma\n",
    "data['occ_tag'] = tag"
   ]
  },
  {
   "cell_type": "code",
   "execution_count": 21,
   "metadata": {},
   "outputs": [],
   "source": [
    "data['occ_tag'] = data['occ_tag'].apply(lambda x: ', '.join(map(str, x)))\n",
    "data['occ_lemma'] = data['occ_lemma'].apply(lambda x: ', '.join(map(str, x)))"
   ]
  },
  {
   "cell_type": "code",
   "execution_count": 22,
   "metadata": {},
   "outputs": [
    {
     "data": {
      "text/html": [
       "<div>\n",
       "<style scoped>\n",
       "    .dataframe tbody tr th:only-of-type {\n",
       "        vertical-align: middle;\n",
       "    }\n",
       "\n",
       "    .dataframe tbody tr th {\n",
       "        vertical-align: top;\n",
       "    }\n",
       "\n",
       "    .dataframe thead th {\n",
       "        text-align: right;\n",
       "    }\n",
       "</style>\n",
       "<table border=\"1\" class=\"dataframe\">\n",
       "  <thead>\n",
       "    <tr style=\"text-align: right;\">\n",
       "      <th></th>\n",
       "      <th>year</th>\n",
       "      <th>datanum</th>\n",
       "      <th>serial</th>\n",
       "      <th>hhwt</th>\n",
       "      <th>statefip</th>\n",
       "      <th>countyfips</th>\n",
       "      <th>city</th>\n",
       "      <th>puma</th>\n",
       "      <th>homeland</th>\n",
       "      <th>gq</th>\n",
       "      <th>...</th>\n",
       "      <th>pwstate2</th>\n",
       "      <th>pwpuma00</th>\n",
       "      <th>tranwork</th>\n",
       "      <th>carpool</th>\n",
       "      <th>riders</th>\n",
       "      <th>trantime</th>\n",
       "      <th>departs</th>\n",
       "      <th>arrives</th>\n",
       "      <th>occ_lemma</th>\n",
       "      <th>occ_tag</th>\n",
       "    </tr>\n",
       "  </thead>\n",
       "  <tbody>\n",
       "    <tr>\n",
       "      <td>2</td>\n",
       "      <td>2016</td>\n",
       "      <td>1</td>\n",
       "      <td>67753</td>\n",
       "      <td>122</td>\n",
       "      <td>california</td>\n",
       "      <td>N/A</td>\n",
       "      <td>not in identifiable city (or size group)</td>\n",
       "      <td>6514</td>\n",
       "      <td>puma does not include a homeland area</td>\n",
       "      <td>households under 1970 definition</td>\n",
       "      <td>...</td>\n",
       "      <td>california</td>\n",
       "      <td>7100</td>\n",
       "      <td>auto, truck, or van</td>\n",
       "      <td>drives alone</td>\n",
       "      <td>drives alone</td>\n",
       "      <td>22</td>\n",
       "      <td>1105</td>\n",
       "      <td>1124</td>\n",
       "      <td>Retail, salesperson</td>\n",
       "      <td>salesperson</td>\n",
       "    </tr>\n",
       "    <tr>\n",
       "      <td>3</td>\n",
       "      <td>2016</td>\n",
       "      <td>1</td>\n",
       "      <td>67753</td>\n",
       "      <td>122</td>\n",
       "      <td>california</td>\n",
       "      <td>N/A</td>\n",
       "      <td>not in identifiable city (or size group)</td>\n",
       "      <td>6514</td>\n",
       "      <td>puma does not include a homeland area</td>\n",
       "      <td>households under 1970 definition</td>\n",
       "      <td>...</td>\n",
       "      <td>california</td>\n",
       "      <td>3700</td>\n",
       "      <td>auto, truck, or van</td>\n",
       "      <td>drives alone</td>\n",
       "      <td>drives alone</td>\n",
       "      <td>141</td>\n",
       "      <td>502</td>\n",
       "      <td>704</td>\n",
       "      <td>Retail, salesperson</td>\n",
       "      <td>salesperson</td>\n",
       "    </tr>\n",
       "    <tr>\n",
       "      <td>5</td>\n",
       "      <td>2016</td>\n",
       "      <td>1</td>\n",
       "      <td>67754</td>\n",
       "      <td>58</td>\n",
       "      <td>california</td>\n",
       "      <td>Los Angeles</td>\n",
       "      <td>not in identifiable city (or size group)</td>\n",
       "      <td>3759</td>\n",
       "      <td>puma does not include a homeland area</td>\n",
       "      <td>households under 1970 definition</td>\n",
       "      <td>...</td>\n",
       "      <td>california</td>\n",
       "      <td>3700</td>\n",
       "      <td>auto, truck, or van</td>\n",
       "      <td>drives alone</td>\n",
       "      <td>drives alone</td>\n",
       "      <td>10</td>\n",
       "      <td>622</td>\n",
       "      <td>634</td>\n",
       "      <td>Aerospace, Engineers</td>\n",
       "      <td></td>\n",
       "    </tr>\n",
       "    <tr>\n",
       "      <td>6</td>\n",
       "      <td>2016</td>\n",
       "      <td>1</td>\n",
       "      <td>67754</td>\n",
       "      <td>58</td>\n",
       "      <td>california</td>\n",
       "      <td>Los Angeles</td>\n",
       "      <td>not in identifiable city (or size group)</td>\n",
       "      <td>3759</td>\n",
       "      <td>puma does not include a homeland area</td>\n",
       "      <td>households under 1970 definition</td>\n",
       "      <td>...</td>\n",
       "      <td>california</td>\n",
       "      <td>3700</td>\n",
       "      <td>auto, truck, or van</td>\n",
       "      <td>drives alone</td>\n",
       "      <td>drives alone</td>\n",
       "      <td>12</td>\n",
       "      <td>902</td>\n",
       "      <td>914</td>\n",
       "      <td>computer, and, information, research, scientist</td>\n",
       "      <td>scientist</td>\n",
       "    </tr>\n",
       "    <tr>\n",
       "      <td>7</td>\n",
       "      <td>2016</td>\n",
       "      <td>1</td>\n",
       "      <td>67755</td>\n",
       "      <td>73</td>\n",
       "      <td>california</td>\n",
       "      <td>N/A</td>\n",
       "      <td>santa ana, ca</td>\n",
       "      <td>5917</td>\n",
       "      <td>puma does not include a homeland area</td>\n",
       "      <td>households under 1970 definition</td>\n",
       "      <td>...</td>\n",
       "      <td>california</td>\n",
       "      <td>5900</td>\n",
       "      <td>auto, truck, or van</td>\n",
       "      <td>carpools</td>\n",
       "      <td>6</td>\n",
       "      <td>20</td>\n",
       "      <td>532</td>\n",
       "      <td>554</td>\n",
       "      <td>miscellaneous, production, worker, ,, include,...</td>\n",
       "      <td>worker, processor</td>\n",
       "    </tr>\n",
       "  </tbody>\n",
       "</table>\n",
       "<p>5 rows × 138 columns</p>\n",
       "</div>"
      ],
      "text/plain": [
       "   year  datanum  serial  hhwt    statefip   countyfips  \\\n",
       "2  2016        1   67753   122  california          N/A   \n",
       "3  2016        1   67753   122  california          N/A   \n",
       "5  2016        1   67754    58  california  Los Angeles   \n",
       "6  2016        1   67754    58  california  Los Angeles   \n",
       "7  2016        1   67755    73  california          N/A   \n",
       "\n",
       "                                       city  puma  \\\n",
       "2  not in identifiable city (or size group)  6514   \n",
       "3  not in identifiable city (or size group)  6514   \n",
       "5  not in identifiable city (or size group)  3759   \n",
       "6  not in identifiable city (or size group)  3759   \n",
       "7                             santa ana, ca  5917   \n",
       "\n",
       "                                homeland                                gq  \\\n",
       "2  puma does not include a homeland area  households under 1970 definition   \n",
       "3  puma does not include a homeland area  households under 1970 definition   \n",
       "5  puma does not include a homeland area  households under 1970 definition   \n",
       "6  puma does not include a homeland area  households under 1970 definition   \n",
       "7  puma does not include a homeland area  households under 1970 definition   \n",
       "\n",
       "   ...    pwstate2 pwpuma00             tranwork       carpool        riders  \\\n",
       "2  ...  california     7100  auto, truck, or van  drives alone  drives alone   \n",
       "3  ...  california     3700  auto, truck, or van  drives alone  drives alone   \n",
       "5  ...  california     3700  auto, truck, or van  drives alone  drives alone   \n",
       "6  ...  california     3700  auto, truck, or van  drives alone  drives alone   \n",
       "7  ...  california     5900  auto, truck, or van      carpools             6   \n",
       "\n",
       "  trantime departs  arrives  \\\n",
       "2       22    1105     1124   \n",
       "3      141     502      704   \n",
       "5       10     622      634   \n",
       "6       12     902      914   \n",
       "7       20     532      554   \n",
       "\n",
       "                                           occ_lemma            occ_tag  \n",
       "2                                Retail, salesperson        salesperson  \n",
       "3                                Retail, salesperson        salesperson  \n",
       "5                               Aerospace, Engineers                     \n",
       "6    computer, and, information, research, scientist          scientist  \n",
       "7  miscellaneous, production, worker, ,, include,...  worker, processor  \n",
       "\n",
       "[5 rows x 138 columns]"
      ]
     },
     "execution_count": 22,
     "metadata": {},
     "output_type": "execute_result"
    }
   ],
   "source": [
    "data.head()"
   ]
  },
  {
   "cell_type": "code",
   "execution_count": 23,
   "metadata": {},
   "outputs": [],
   "source": [
    "working_df = pd.merge(df, data)"
   ]
  },
  {
   "cell_type": "code",
   "execution_count": 24,
   "metadata": {},
   "outputs": [
    {
     "name": "stderr",
     "output_type": "stream",
     "text": [
      "c:\\users\\wellsst\\appdata\\local\\programs\\python\\python36\\lib\\site-packages\\pandas\\io\\stata.py:687: ValueLabelTypeMismatch: \n",
      "Stata value labels (pandas categories) must be strings. Column language contains\n",
      "non-string labels which will be converted to strings.  Please check that the\n",
      "Stata data file created has not lost information due to duplicate labels.\n",
      "\n",
      "  ValueLabelTypeMismatch,\n"
     ]
    }
   ],
   "source": [
    "with gzip.open(\"../data/processed/working-101218-dataset.dta.gz\", \"wb\") as file:\n",
    "    working_df.to_stata(file)"
   ]
  },
  {
   "cell_type": "markdown",
   "metadata": {},
   "source": [
    "### Next time:\n",
    "Work on creating a {work} sentence using occ_tag and occ_lemma. Maybe look into industry?"
   ]
  },
  {
   "cell_type": "markdown",
   "metadata": {},
   "source": [
    "# Continuation: 10-16-18\n",
    "\n",
    "1. Look into using occ_tag to make a work-related sentence\n",
    "2. look into homeland/farm living\n",
    "3. maybe us occ_lemma for work related stuff\n",
    "4. carpool ?"
   ]
  },
  {
   "cell_type": "code",
   "execution_count": 25,
   "metadata": {},
   "outputs": [],
   "source": [
    "import pandas as pd\n",
    "import gzip"
   ]
  },
  {
   "cell_type": "code",
   "execution_count": 26,
   "metadata": {},
   "outputs": [],
   "source": [
    "from IPython.core.interactiveshell import InteractiveShell\n",
    "\n",
    "InteractiveShell.ast_node_interactivity = \"all\""
   ]
  },
  {
   "cell_type": "code",
   "execution_count": 27,
   "metadata": {
    "scrolled": true
   },
   "outputs": [
    {
     "data": {
      "text/plain": [
       "(173342, 139)"
      ]
     },
     "execution_count": 27,
     "metadata": {},
     "output_type": "execute_result"
    },
    {
     "data": {
      "text/html": [
       "<div>\n",
       "<style scoped>\n",
       "    .dataframe tbody tr th:only-of-type {\n",
       "        vertical-align: middle;\n",
       "    }\n",
       "\n",
       "    .dataframe tbody tr th {\n",
       "        vertical-align: top;\n",
       "    }\n",
       "\n",
       "    .dataframe thead th {\n",
       "        text-align: right;\n",
       "    }\n",
       "</style>\n",
       "<table border=\"1\" class=\"dataframe\">\n",
       "  <thead>\n",
       "    <tr style=\"text-align: right;\">\n",
       "      <th></th>\n",
       "      <th>index</th>\n",
       "      <th>year</th>\n",
       "      <th>datanum</th>\n",
       "      <th>serial</th>\n",
       "      <th>hhwt</th>\n",
       "      <th>statefip</th>\n",
       "      <th>countyfips</th>\n",
       "      <th>city</th>\n",
       "      <th>puma</th>\n",
       "      <th>homeland</th>\n",
       "      <th>...</th>\n",
       "      <th>pwstate2</th>\n",
       "      <th>pwpuma00</th>\n",
       "      <th>tranwork</th>\n",
       "      <th>carpool</th>\n",
       "      <th>riders</th>\n",
       "      <th>trantime</th>\n",
       "      <th>departs</th>\n",
       "      <th>arrives</th>\n",
       "      <th>occ_lemma</th>\n",
       "      <th>occ_tag</th>\n",
       "    </tr>\n",
       "  </thead>\n",
       "  <tbody>\n",
       "    <tr>\n",
       "      <td>0</td>\n",
       "      <td>0</td>\n",
       "      <td>2016</td>\n",
       "      <td>1</td>\n",
       "      <td>67753</td>\n",
       "      <td>122</td>\n",
       "      <td>california</td>\n",
       "      <td>N/A</td>\n",
       "      <td>not in identifiable city (or size group)</td>\n",
       "      <td>6514</td>\n",
       "      <td>puma does not include a homeland area</td>\n",
       "      <td>...</td>\n",
       "      <td>california</td>\n",
       "      <td>7100</td>\n",
       "      <td>auto, truck, or van</td>\n",
       "      <td>drives alone</td>\n",
       "      <td>drives alone</td>\n",
       "      <td>22</td>\n",
       "      <td>1105</td>\n",
       "      <td>1124</td>\n",
       "      <td>Retail, salesperson</td>\n",
       "      <td>salesperson</td>\n",
       "    </tr>\n",
       "    <tr>\n",
       "      <td>1</td>\n",
       "      <td>1</td>\n",
       "      <td>2016</td>\n",
       "      <td>1</td>\n",
       "      <td>67753</td>\n",
       "      <td>122</td>\n",
       "      <td>california</td>\n",
       "      <td>N/A</td>\n",
       "      <td>not in identifiable city (or size group)</td>\n",
       "      <td>6514</td>\n",
       "      <td>puma does not include a homeland area</td>\n",
       "      <td>...</td>\n",
       "      <td>california</td>\n",
       "      <td>3700</td>\n",
       "      <td>auto, truck, or van</td>\n",
       "      <td>drives alone</td>\n",
       "      <td>drives alone</td>\n",
       "      <td>141</td>\n",
       "      <td>502</td>\n",
       "      <td>704</td>\n",
       "      <td>Retail, salesperson</td>\n",
       "      <td>salesperson</td>\n",
       "    </tr>\n",
       "    <tr>\n",
       "      <td>2</td>\n",
       "      <td>2</td>\n",
       "      <td>2016</td>\n",
       "      <td>1</td>\n",
       "      <td>67754</td>\n",
       "      <td>58</td>\n",
       "      <td>california</td>\n",
       "      <td>Los Angeles</td>\n",
       "      <td>not in identifiable city (or size group)</td>\n",
       "      <td>3759</td>\n",
       "      <td>puma does not include a homeland area</td>\n",
       "      <td>...</td>\n",
       "      <td>california</td>\n",
       "      <td>3700</td>\n",
       "      <td>auto, truck, or van</td>\n",
       "      <td>drives alone</td>\n",
       "      <td>drives alone</td>\n",
       "      <td>10</td>\n",
       "      <td>622</td>\n",
       "      <td>634</td>\n",
       "      <td>Aerospace, Engineers</td>\n",
       "      <td></td>\n",
       "    </tr>\n",
       "    <tr>\n",
       "      <td>3</td>\n",
       "      <td>3</td>\n",
       "      <td>2016</td>\n",
       "      <td>1</td>\n",
       "      <td>67754</td>\n",
       "      <td>58</td>\n",
       "      <td>california</td>\n",
       "      <td>Los Angeles</td>\n",
       "      <td>not in identifiable city (or size group)</td>\n",
       "      <td>3759</td>\n",
       "      <td>puma does not include a homeland area</td>\n",
       "      <td>...</td>\n",
       "      <td>california</td>\n",
       "      <td>3700</td>\n",
       "      <td>auto, truck, or van</td>\n",
       "      <td>drives alone</td>\n",
       "      <td>drives alone</td>\n",
       "      <td>12</td>\n",
       "      <td>902</td>\n",
       "      <td>914</td>\n",
       "      <td>computer, and, information, research, scientist</td>\n",
       "      <td>scientist</td>\n",
       "    </tr>\n",
       "    <tr>\n",
       "      <td>4</td>\n",
       "      <td>4</td>\n",
       "      <td>2016</td>\n",
       "      <td>1</td>\n",
       "      <td>67755</td>\n",
       "      <td>73</td>\n",
       "      <td>california</td>\n",
       "      <td>N/A</td>\n",
       "      <td>santa ana, ca</td>\n",
       "      <td>5917</td>\n",
       "      <td>puma does not include a homeland area</td>\n",
       "      <td>...</td>\n",
       "      <td>california</td>\n",
       "      <td>5900</td>\n",
       "      <td>auto, truck, or van</td>\n",
       "      <td>carpools</td>\n",
       "      <td>6</td>\n",
       "      <td>20</td>\n",
       "      <td>532</td>\n",
       "      <td>554</td>\n",
       "      <td>miscellaneous, production, worker, ,, include,...</td>\n",
       "      <td>worker, processor</td>\n",
       "    </tr>\n",
       "  </tbody>\n",
       "</table>\n",
       "<p>5 rows × 139 columns</p>\n",
       "</div>"
      ],
      "text/plain": [
       "   index  year  datanum  serial  hhwt    statefip   countyfips  \\\n",
       "0      0  2016        1   67753   122  california          N/A   \n",
       "1      1  2016        1   67753   122  california          N/A   \n",
       "2      2  2016        1   67754    58  california  Los Angeles   \n",
       "3      3  2016        1   67754    58  california  Los Angeles   \n",
       "4      4  2016        1   67755    73  california          N/A   \n",
       "\n",
       "                                       city  puma  \\\n",
       "0  not in identifiable city (or size group)  6514   \n",
       "1  not in identifiable city (or size group)  6514   \n",
       "2  not in identifiable city (or size group)  3759   \n",
       "3  not in identifiable city (or size group)  3759   \n",
       "4                             santa ana, ca  5917   \n",
       "\n",
       "                                homeland  ...    pwstate2 pwpuma00  \\\n",
       "0  puma does not include a homeland area  ...  california     7100   \n",
       "1  puma does not include a homeland area  ...  california     3700   \n",
       "2  puma does not include a homeland area  ...  california     3700   \n",
       "3  puma does not include a homeland area  ...  california     3700   \n",
       "4  puma does not include a homeland area  ...  california     5900   \n",
       "\n",
       "              tranwork       carpool        riders trantime departs arrives  \\\n",
       "0  auto, truck, or van  drives alone  drives alone       22    1105    1124   \n",
       "1  auto, truck, or van  drives alone  drives alone      141     502     704   \n",
       "2  auto, truck, or van  drives alone  drives alone       10     622     634   \n",
       "3  auto, truck, or van  drives alone  drives alone       12     902     914   \n",
       "4  auto, truck, or van      carpools             6       20     532     554   \n",
       "\n",
       "                                           occ_lemma            occ_tag  \n",
       "0                                Retail, salesperson        salesperson  \n",
       "1                                Retail, salesperson        salesperson  \n",
       "2                               Aerospace, Engineers                     \n",
       "3    computer, and, information, research, scientist          scientist  \n",
       "4  miscellaneous, production, worker, ,, include,...  worker, processor  \n",
       "\n",
       "[5 rows x 139 columns]"
      ]
     },
     "execution_count": 27,
     "metadata": {},
     "output_type": "execute_result"
    }
   ],
   "source": [
    "with gzip.open(\"../data/processed/working-101218-dataset.dta.gz\", \"rb\") as file:\n",
    "    df = pd.read_stata(file)\n",
    "    \n",
    "df.shape\n",
    "df.head()"
   ]
  },
  {
   "cell_type": "markdown",
   "metadata": {},
   "source": [
    "### Homeland/Farm living first because it's pretty straightforward"
   ]
  },
  {
   "cell_type": "code",
   "execution_count": 28,
   "metadata": {},
   "outputs": [
    {
     "data": {
      "text/plain": [
       "[puma does not include a homeland area, puma includes a homeland area]\n",
       "Categories (2, object): [puma does not include a homeland area < puma includes a homeland area]"
      ]
     },
     "execution_count": 28,
     "metadata": {},
     "output_type": "execute_result"
    },
    {
     "data": {
      "text/plain": [
       "[non-farm, farm]\n",
       "Categories (2, object): [non-farm < farm]"
      ]
     },
     "execution_count": 28,
     "metadata": {},
     "output_type": "execute_result"
    }
   ],
   "source": [
    "df['homeland'].unique()\n",
    "df['farm'].unique()"
   ]
  },
  {
   "cell_type": "code",
   "execution_count": 29,
   "metadata": {},
   "outputs": [],
   "source": [
    "df['occ_lemma'] = df['occ_lemma'].str.split(\", ,\").str[0].str.replace(\",\",\"\")"
   ]
  },
  {
   "cell_type": "code",
   "execution_count": 30,
   "metadata": {},
   "outputs": [],
   "source": [
    "df['place'] = df['bpl'].astype(str)\n",
    "\n",
    "df['place'] = df['place'].str.replace(\"europe, ns\", \"europe\")\n",
    "df['place'] = df['place'].str.replace(\"cambodia (kampuchea)\", \"cambodia\")\n",
    "df['place'] = df['place'].str.replace(\"other ussr/russia\", \"USSR\")\n",
    "df['place'] = df['place'].str.replace(\"asia, nec/ns\", \"asia\")\n",
    "df['place'] = df['place'].str.replace(\"yemen arab republic (north)\", \"yemen\")\n",
    "df['place'] = df['place'].str.replace(\"other n.e.c\", \"\")\n",
    "df['place'] = df['place'].str.replace(\"united kingdom, ns\", \"UK\")\n",
    "df['place'] = df['place'].str.replace(\"americas, n.s\", \"\")"
   ]
  },
  {
   "cell_type": "code",
   "execution_count": 31,
   "metadata": {},
   "outputs": [],
   "source": [
    "df['commute'] = df['tranwork'].astype(str)\n",
    "\n",
    "df['commute'] = df['commute'].str.replace(\"auto, truck, or van\", \"car\")\n",
    "df['commute'] = df['commute'].str.replace(\"bus or trolley bus\", \"bus\")\n",
    "df['commute'] = df['commute'].str.replace(\"streetcar or trolley car\", \"trolley\")\n",
    "df['commute'] = df['commute'].str.replace(\"subway or elevated\", \"subway\")\n",
    "df['commute'] = df['commute'].str.replace(\"walked only\", \"walking\")\n",
    "df['commute'] = df['commute'].str.replace(\"other\", \"\")"
   ]
  },
  {
   "cell_type": "code",
   "execution_count": 32,
   "metadata": {},
   "outputs": [],
   "source": [
    "df['last_place'] = df['migplac1'].astype(str)\n",
    "\n",
    "df['last_place'] = df['last_place'].str.replace(\"n/a\", \"\")\n",
    "df['last_place'] = df['last_place'].str.replace(\"district of columbia\", \"DC\")\n",
    "df['last_place'] = df['last_place'].str.replace(\"central america, nec\", \"central america\")\n",
    "df['last_place'] = df['last_place'].str.replace(\"other caribbean and north america\", \"caribbean\")\n",
    "df['last_place'] = df['last_place'].str.replace(\"south america, nec\", \"south america\")\n",
    "df['last_place'] = df['last_place'].str.replace(\"united kingdom (excluding england: 2005acs)\", \"UK\")\n",
    "df['last_place'] = df['last_place'].str.replace(\"other northern europe\", \"northern europe\")\n",
    "df['last_place'] = df['last_place'].str.replace(\"other western europe\", \"western europe\")\n",
    "df['last_place'] = df['last_place'].str.replace(\"ussr\", \"USSR\")\n",
    "df['last_place'] = df['last_place'].str.replace(\"other south east asia\", \"south east asia\")\n",
    "df['last_place'] = df['last_place'].str.replace(\"other western asia\", \"western asia\")\n",
    "df['last_place'] = df['last_place'].str.replace(\"asia, nec\", \"asia\")\n",
    "df['last_place'] = df['last_place'].str.replace(\"africa, nec\", \"africa\")\n",
    "df['last_place'] = df['last_place'].str.replace(\"abroad (unknown) or at sea\", \"abroad\")"
   ]
  },
  {
   "cell_type": "code",
   "execution_count": 33,
   "metadata": {},
   "outputs": [],
   "source": [
    "sentences = []"
   ]
  },
  {
   "cell_type": "code",
   "execution_count": 34,
   "metadata": {},
   "outputs": [],
   "source": [
    "# Copied from above\n",
    "for i in range(len(df)):\n",
    "        person=df.iloc[i]\n",
    "\n",
    "        # demo\n",
    "        place = ''\n",
    "        if person['city'] != 'not in identifiable city (or size group)':\n",
    "            place = person['city'].title() \n",
    "            if place == 'San Francisco, Ca':\n",
    "                place += \" \\U0001F309\" \n",
    "            else:\n",
    "                place += \".\"\n",
    "        elif person['countyfips'] != \"N/A\":\n",
    "            place = person['countyfips'] + \" county\"\n",
    "        else:\n",
    "            pass\n",
    "\n",
    "        # origin\n",
    "        place += f\" (born in {person['place'].title()}).\"\n",
    "\n",
    "        # work\n",
    "        if (person['occ_lemma'] != '') & (len(person['occ_lemma']) < 27) & ('(' not in person['occ_lemma']):\n",
    "            word = person['occ_lemma']\n",
    "            if word[-3:] == 'ing':\n",
    "                word = word.replace(\"ing\", \"er\")\n",
    "            elif word[-1] == 's':\n",
    "                word = word[:-1]\n",
    "            vowels = ['a','e','i','o','u']\n",
    "            if word[0] in vowels:\n",
    "                work = f\" {pronounU} works as an {word}\"\n",
    "            else:\n",
    "                work = f\" {pronounU} works as a {word}\"\n",
    "        else:\n",
    "            work = ''\n",
    "\n",
    "        if work:\n",
    "            # money\n",
    "            money = f\", make around ${person['inctot']:,.0f}\"\n",
    "            if person['inctot'] >= 100_000:\n",
    "                money += ' ayy \\U0001F4B0.'\n",
    "            elif person['inctot'] < 1500:\n",
    "                money = \".\"\n",
    "            else:\n",
    "                money += \".\"\n",
    "        else:\n",
    "            money = \"\"\n",
    "\n",
    "        # farm\n",
    "        if person['farm'] == 'farm':\n",
    "            if person['sex'] == 'male':\n",
    "                farm = \" {pronounU} lives in a farm \" + u'\\U0001F468\\U0000200D\\U0001F33E' + \".\"\n",
    "            else:\n",
    "                farm = \" {pronounU} lives in a farm \" + u'\\U0001F469\\U0000200D\\U0001F33E' + \".\"\n",
    "        else:\n",
    "            farm = ''\n",
    "\n",
    "        # school\n",
    "        if person['age'] < '18':\n",
    "            grade = person['educd'].split()[-1]\n",
    "            schooling = f\"{pronounU} was in {grade}th grade.\"\n",
    "        else:\n",
    "            schooling = \"\"\n",
    "\n",
    "        # commute\n",
    "        if person['trantime'] > 0:\n",
    "            commute = f\" {pronounU} commutes {person['trantime']} minutes\"\n",
    "            if (person['commute'] != '') & (person['commute'] != 'n/a'):\n",
    "                commute += f\" by {person['commute']}.\"\n",
    "            elif person['commute'] == 'walking':\n",
    "                commute += f\" {person['commute']}.\"\n",
    "            else:\n",
    "                commute += \".\"\n",
    "\n",
    "        # veteran\n",
    "        if person['vetstat'] == 'veteran':\n",
    "            veteran = \" I'm a veteran.\"\n",
    "        else:\n",
    "            veteran = ''\n",
    "\n",
    "        # last year\n",
    "        if (person['last_place'] != 'california') & (person['last_place'] != ''):\n",
    "            the_place = person['last_place'].title()\n",
    "            if the_place == 'Caribbean':\n",
    "                the_place = 'the' + the_place\n",
    "            elif the_place == 'Uk':\n",
    "                the_place = 'the UK'\n",
    "            elif the_place == 'Abroad':\n",
    "                the_place = 'abroad'\n",
    "            elif the_place == 'Ussr':\n",
    "                the_place = 'the USSR'\n",
    "            elif the_place == 'Dc':\n",
    "                the_place = \"DC\"\n",
    "            last_place = f\" Last year, {pronounU} was living in {the_place}\"\n",
    "        else:\n",
    "            last_place = \"\"\n",
    "\n",
    "        sentence = f\"I'm {person['age']} and from {place}{farm}{work}{money}{schooling}{commute}{veteran}{last_place}\"\n",
    "        # print(sentence)\n",
    "        # len(sentence)\n",
    "        sentences.append(sentence)"
   ]
  },
  {
   "cell_type": "code",
   "execution_count": 35,
   "metadata": {},
   "outputs": [],
   "source": [
    "df['sentences'] = sentences"
   ]
  },
  {
   "cell_type": "code",
   "execution_count": 36,
   "metadata": {},
   "outputs": [
    {
     "name": "stdout",
     "output_type": "stream",
     "text": [
      "🌉\n"
     ]
    }
   ],
   "source": [
    "print(u\"\\U0001F309\")"
   ]
  },
  {
   "cell_type": "code",
   "execution_count": 37,
   "metadata": {},
   "outputs": [
    {
     "data": {
      "text/plain": [
       "18809033"
      ]
     },
     "execution_count": 37,
     "metadata": {},
     "output_type": "execute_result"
    }
   ],
   "source": [
    "from random import shuffle\n",
    "shuffle(sentences)\n",
    "text = '\\n'.join(sentences)\n",
    "with open('../data/processed/sentences.txt', 'w', encoding = 'utf-8') as file:\n",
    "    file.write(text)"
   ]
  },
  {
   "cell_type": "code",
   "execution_count": 38,
   "metadata": {},
   "outputs": [
    {
     "name": "stdout",
     "output_type": "stream",
     "text": [
      "👨‍🌾\n"
     ]
    }
   ],
   "source": [
    "print(u'\\U0001F468\\U0000200D\\U0001F33E')"
   ]
  },
  {
   "cell_type": "code",
   "execution_count": 39,
   "metadata": {},
   "outputs": [
    {
     "name": "stdout",
     "output_type": "stream",
     "text": [
      "‍\n"
     ]
    }
   ],
   "source": [
    "print(u'\\U0000200D')"
   ]
  },
  {
   "cell_type": "code",
   "execution_count": 40,
   "metadata": {},
   "outputs": [
    {
     "name": "stdout",
     "output_type": "stream",
     "text": [
      "🌾\n"
     ]
    }
   ],
   "source": [
    "print(u\"\\U0001F33E\")"
   ]
  },
  {
   "cell_type": "code",
   "execution_count": 41,
   "metadata": {},
   "outputs": [],
   "source": [
    "dff = df.copy()\n",
    "\n",
    "# place\n",
    "dff.loc[dff['city']!= 'not in identifiable city (or size group)', 'sentence_place'] = dff['city'].str.title() + \".\"\n",
    "dff.loc[dff['city']== 'San Francisco, Ca', 'sentence_place'] = dff['city'].str.title() + \" \\U0001F309\" + \".\"\n",
    "dff.loc[((dff['city']== 'not in identifiable city (or size group)') & (dff['countyfips'] != 'N/A')), 'place'] = dff['countyfips'] + \" county\"\n",
    "\n",
    "dff['sentence_place'] = \"from \" + dff['sentence_place'] + \" (born in \"+dff['place'].str.title()+\").\"\n",
    "dff.loc[dff['sentence_place'].isnull(), 'sentence_place'] = \"(born in \"+dff['place'].str.title()+\").\"\n",
    "\n",
    "\n",
    "# work\n",
    "conditions_work = ((dff['occ_lemma'] != '') & (dff['occ_lemma'].str.len() < 27) & (dff['occ_lemma'].str.contains(\"\\(\") == False))\n",
    "conditions_vowel = ((dff['occ_lemma'].str.startswith('a')) & (dff['occ_lemma'].str.startswith('e')) & (dff['occ_lemma'].str.startswith('i')) & (dff['occ_lemma'].str.startswith('o')) & (dff['occ_lemma'].str.startswith('u')))\n",
    "\n",
    "dff.loc[((conditions_work) & (dff['occ_lemma'].str[-3:] == 'ing') & (conditions_vowel)), 'sentence_work'] = \"{pronounU} worked as a \" + dff['occ_lemma'].str[:-3] + \"er\"\n",
    "dff.loc[((conditions_work) & (dff['occ_lemma'].str[-3:] == 'ing') & ~(conditions_vowel)), 'sentence_work'] = \"{pronounU} worked as an \" + dff['occ_lemma'].str[:-3] + \"er\"\n",
    "\n",
    "dff.loc[((conditions_work) & (dff['occ_lemma'].str[-1] == 's') & (conditions_vowel)), 'sentence_work'] = \"{pronounU} worked as a \" + dff['occ_lemma'].str[:-1] \n",
    "dff.loc[((conditions_work) & (dff['occ_lemma'].str[-1] == 's') & ~(conditions_vowel)), 'sentence_work'] = \"{pronounU} worked as an \" + dff['occ_lemma'].str[:-1] \n",
    "\n",
    "\n",
    "# farm\n",
    "dff.loc[((dff['farm'] == 'farm')&(dff['sex'] == 'male')), 'sentence_farm'] = \" {pronounU} lived in a farm \" + u'\\U0001F468\\U0000200D\\U0001F33E' + \".\"\n",
    "dff.loc[((dff['farm'] == 'farm')&(dff['sex'] == 'female')), 'sentence_farm'] = \" {pronounU} lived in a farm \" + u'\\U0001F469\\U0000200D\\U0001F33E' + \".\"\n",
    "\n",
    "# school\n",
    "dff.loc[(dff['age'] < '18'), 'sentence_schooling'] = \"{pronounU} was in \" +dff['educd'].str.split().str[-1] +\"th grade.\"\n",
    "\n",
    "# commute\n",
    "dff.loc[((dff['trantime'] > 0) & (dff['commute'] != '') & (dff['commute'] != 'n/a')), 'sentence_commute'] = \"{pronounU} commuted \" + dff['trantime'].astype(str) + \" min\" + ' by ' + dff['commute'] + \".\"\n",
    "dff.loc[((dff['trantime'] > 0) & (dff['commute'] == 'walking')), 'sentence_commute'] = \"{pronounU} commuted \" + dff['trantime'].astype(str) + \" min\" + ' ' + dff['commute'] + \".\"\n",
    "\n",
    "# veteran\n",
    "dff.loc[dff['vetstat'] == 'veteran', 'sentence_veteran'] = \"{pronounU} was a veteran.\"\n",
    "\n",
    "# last place\n",
    "conditions_place = ((dff['last_place'] != 'california') & (dff['last_place'] != ''))\n",
    "dff['last_place'] = dff['last_place'].str.title()\n",
    "\n",
    "# some specific places to change\n",
    "changes = {\n",
    "    'Caribbean': 'the Caribbean',\n",
    "    'Uk': 'the UK',\n",
    "    'Abroad': 'abroad',\n",
    "    'Ussr': 'the USSR',\n",
    "    'Dc': 'DC'\n",
    "}\n",
    "\n",
    "dff['last_place'] = dff['last_place'].map(changes)\n",
    "\n",
    "dff.loc[conditions_place, 'sentence_lastplace'] = \"Last year, {pronounU} was living in \" + dff['last_place'] + '.'"
   ]
  },
  {
   "cell_type": "code",
   "execution_count": 42,
   "metadata": {},
   "outputs": [],
   "source": [
    "# prepping for sentence building\n",
    "sentence_cols = [col for col in dff.columns if 'sentence_' in col]\n",
    "dff[sentence_cols] = dff[sentence_cols].fillna(\"\")"
   ]
  },
  {
   "cell_type": "code",
   "execution_count": 43,
   "metadata": {},
   "outputs": [],
   "source": [
    "dff['sentence_final'] = \"I'm\" + \" \" + dff['age'].astype(str) + \" \" +  dff['sentence_place']  + \" \" +  dff['sentence_work']  + \" \" +  dff['sentence_farm']  + \" \" +  dff['sentence_schooling']  + \" \" +  dff['sentence_commute'] + dff['sentence_veteran']  + \" \" + dff['sentence_lastplace']"
   ]
  },
  {
   "cell_type": "code",
   "execution_count": 44,
   "metadata": {},
   "outputs": [],
   "source": [
    "dff['sentence_final'] = dff['sentence_final'].str.replace(\"  \", \" \").str.replace(\"  \", \" \").str.replace(\"  \", \" \")"
   ]
  },
  {
   "cell_type": "code",
   "execution_count": 45,
   "metadata": {},
   "outputs": [],
   "source": [
    "sentence_cols = [col for col in dff.columns if 'sentence_' in col]"
   ]
  },
  {
   "cell_type": "code",
   "execution_count": 46,
   "metadata": {},
   "outputs": [],
   "source": [
    "df_to_save = dff[sentence_cols]\n",
    "\n",
    "df_to_save.to_csv(\"../data/processed/working-sentences_df.csv\", encoding = 'utf-8', index = False,)"
   ]
  },
  {
   "cell_type": "code",
   "execution_count": 47,
   "metadata": {},
   "outputs": [
    {
     "data": {
      "text/plain": [
       "12804555"
      ]
     },
     "execution_count": 47,
     "metadata": {},
     "output_type": "execute_result"
    }
   ],
   "source": [
    "from random import shuffle\n",
    "\n",
    "with open(\"../data/processed/working-sentences.txt\", 'w', encoding = 'utf-8',) as file:\n",
    "    sentences = list(df_to_save['sentence_final'])\n",
    "    shuffle(sentences)\n",
    "    text = \"\\n\".join(sentences)\n",
    "    file.write(text)"
   ]
  }
 ],
 "metadata": {
  "kernelspec": {
   "display_name": "Python 3",
   "language": "python",
   "name": "python3"
  },
  "language_info": {
   "codemirror_mode": {
    "name": "ipython",
    "version": 3
   },
   "file_extension": ".py",
   "mimetype": "text/x-python",
   "name": "python",
   "nbconvert_exporter": "python",
   "pygments_lexer": "ipython3",
   "version": "3.6.8"
  }
 },
 "nbformat": 4,
 "nbformat_minor": 2
}
